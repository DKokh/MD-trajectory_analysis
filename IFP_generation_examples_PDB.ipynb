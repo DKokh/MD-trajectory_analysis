{
 "cells": [
  {
   "cell_type": "markdown",
   "metadata": {},
   "source": [
    "# A collection of examples showing how to carry out computations of \n",
    "# Protein-Ligand  Interaction Fingerprits, IFPs,  using MD-IFP tools but without using a trajectory object.\n",
    "\n",
    "# IFPs can be generated for \n",
    "\n",
    "## (i) a PDB structure\n",
    "## (ii) a single MD trajectory\n",
    "\n",
    "    1. Computing interaction fingerprints (IFP) for\n",
    "        -- a single structure prepared for MD simulations (HSP90; PDB ID 6EI5, dcd format)\n",
    "        -- PDB structure\n",
    "    2. Visualizing protein residues that are involved in protein-ligand interactions, including water-bridges\n",
    "  \n",
    "  \n",
    "\n",
    "### Input data required:\n",
    "    MD trajectory file of a complex\n",
    "    pdb file of a complex (for example, generated from the first frame)\n",
    "    pdb and mol2 file of a ligand separately \n",
    "    Data can be downloaded from https://zenodo.org/record/3755337#.XrF-iGgzaUk\n",
    "    \n",
    "    \n",
    "### Packages required:\n",
    "    numpy\n",
    "    matplotlib\n",
    "    MDAnalysis v. 20.1 or above\n",
    "    pandas\n",
    "    seaborn\n",
    "    RDkit\n",
    "    nglview\n",
    "    code is written on Python 3.x and tested on the version 3.7\n",
    "\n",
    "\n",
    "\n",
    "### v 1.0\n",
    "    06.06.2020\n",
    "    Copyright (c) 2020\n",
    "    Released under the EUPL Licence, v1.2 or any higher version\n",
    "    \n",
    "### Authors: Daria Kokh & Fabian Ormersbach \n",
    "    Daria.Kokh@h-its.org\n",
    "    Heidelberg Institute of Theoretical Studies (HITS, www.h-its.org)\n",
    "    Schloss-Wolfsbrunnenweg 35\n",
    "    69118 Heidelberg, Germany\n",
    "    \n",
    "    "
   ]
  },
  {
   "cell_type": "markdown",
   "metadata": {},
   "source": [
    "##  Application example \n",
    "\n",
    "    Heat Shock Protein 90 (HSP90)"
   ]
  },
  {
   "cell_type": "markdown",
   "metadata": {},
   "source": [
    "Import all of the required packages and scripts"
   ]
  },
  {
   "cell_type": "code",
   "execution_count": 25,
   "metadata": {},
   "outputs": [
    {
     "name": "stdout",
     "output_type": "stream",
     "text": [
      "The autoreload extension is already loaded. To reload it, use:\n",
      "  %reload_ext autoreload\n"
     ]
    }
   ],
   "source": [
    "import glob, os\n",
    "import sys\n",
    "import numpy as np\n",
    "import pandas as pd\n",
    "import matplotlib.pyplot as plt\n",
    "import nglview as nv\n",
    "import MDAnalysis as mda\n",
    "import warnings\n",
    "from rdkit import Chem, RDConfig\n",
    "from rdkit.Chem.rdMolChemicalFeatures import MolChemicalFeatureFactory\n",
    "from Scripts.IFP_generation import *\n",
    "from Scripts.Trajectories import *\n",
    "#from Scripts.Complex_structure import *\n",
    "#from Scripts.Clustering import *\n",
    "\n",
    "%load_ext autoreload\n",
    "%autoreload 2\n",
    "warnings.filterwarnings(\"ignore\")"
   ]
  },
  {
   "cell_type": "markdown",
   "metadata": {},
   "source": [
    "## 1. Generation IFPs for a single HSP90 structure (PDB ID 6EI5) prepared for MD simulations \n",
    "### 1.1 find chemical properties of the ligand using RDKit "
   ]
  },
  {
   "cell_type": "markdown",
   "metadata": {},
   "source": [
    "Before we start with the IFP-Analysis we first need to extract the chemical information of the ligand."
   ]
  },
  {
   "cell_type": "code",
   "execution_count": 26,
   "metadata": {},
   "outputs": [],
   "source": [
    "# Define the path to the Ligand data, pdb file and mol2 file are needed\n",
    "ligand_pdb = \"Data/6EI5//INH.pdb\"\n",
    "ligand_mol2 = \"Data/6EI5//moe.mol2\"\n",
    "\n",
    "# Get the atom names of the ligand\n",
    "with open(ligand_pdb, 'r') as fasta_file: #Does ff stand for fasta file? \n",
    "    list_labels = [line.split()[2] for line in fasta_file.readlines() if line.split()[0]=='ATOM']\n",
    "\n",
    "# Get the ligand features using RDKit feature factory\n",
    "mol = Chem.rdmolfiles.MolFromMol2File(ligand_mol2, removeHs=False)\n",
    "factory_name = os.path.join(RDConfig.RDDataDir, 'BaseFeatures.fdef')\n",
    "factory = Chem.ChemicalFeatures.BuildFeatureFactory(factory_name)\n",
    "features = factory.GetFeaturesForMol(mol)\n",
    "\n",
    "# Create dictionary that maps Atoms to their features\n",
    "properties = {feature.GetFamily():[] for feature in features}\n",
    "for feature in features:\n",
    "    current_atoms = [list_labels[atom_id] for atom_id in list(feature.GetAtomIds())]\n",
    "    for atom in current_atoms:\n",
    "        properties[feature.GetFamily()].append(atom)\n",
    "        \n",
    "# Additionally we need to load our protein/ligand complex into a MDAnalysis universe\n",
    "ref_pdb = 'Data/6EI5/ref-min.pdb'\n",
    "u = mda.Universe(ref_pdb)"
   ]
  },
  {
   "cell_type": "markdown",
   "metadata": {},
   "source": [
    "### 1.2 Generate PL IFPs \n",
    "Now that we have all the chemical information for our ligand, we can start the actual IFP analysis.  \n",
    "The possible interactions with their corresponding abbreviations are shown in the table below.  \n",
    "  \n",
    "| Abbreviation |    Type of interaction   |\n",
    "|:---------------|:---------------------------|\n",
    "|   HY  | Hydrophobic |\n",
    "|  IP  |       Salt bridge (positive charge) |\n",
    "|  IN  |       Salt bridge (negative charge) |\n",
    "|  AR  |   $\\pi$-stacking  |\n",
    "|    |  Cation-$\\pi$  |\n",
    "|    |  $\\pi$-Cation  |\n",
    "|    |  $\\pi$-Amide  |\n",
    "|  HL  |  Halogen-$\\pi$  |\n",
    "|    |  Halogen-carboxyl  |\n",
    "|    |  Halogen-Amide  |\n",
    "|    |  Halogen-Sulfur  |\n",
    "|  HD  |  Hydrogen-bond donor  |\n",
    "|  HA  |  Hydrogen-bond acceptor  |\n",
    "|  WB  |  Water bridge  |"
   ]
  },
  {
   "cell_type": "markdown",
   "metadata": {},
   "source": [
    "For this we use the IFP and table_combine functions contained in the IFP_generation script.\\\n",
    "The IFP function takes a variety of inputs.\\\n",
    "We need to supply our universe,  the ligand residue name and the properties of our ligand and set RE to false. The other settings we'll leave on the default for now.\\\n",
    "The IFP function returns three data frames: all IFPs properties except hydrogen bonds, hydrogen bonds only, and a waterbridges.\n",
    "Then we can combine all three tables in one"
   ]
  },
  {
   "cell_type": "code",
   "execution_count": 27,
   "metadata": {
    "scrolled": true
   },
   "outputs": [
    {
     "name": "stdout",
     "output_type": "stream",
     "text": [
      "Start HB analysis 22:12:14.696077\n",
      "Start WB analysis 22:12:15.411670\n",
      "Start collecting IFPs:  22:12:17.571433\n",
      "Start building IFP table:  22:12:20.880534\n",
      "IFP database is ready  22:12:20.884529\n"
     ]
    }
   ],
   "source": [
    "df_prop,df_HB,df_WB = IFP(u,\"INH\",properties,RE=False)\n",
    "df_prop_complete = table_combine(df_HB,df_WB,df_prop,\"INH\")"
   ]
  },
  {
   "cell_type": "markdown",
   "metadata": {},
   "source": [
    "This is the complete IFP database.\\\n",
    "It contains Waterbridges between the ligand and THR168, ASP77 and GLY81.\\\n",
    "Hydrogen bonds and aromatic contact with the ligand are constituted with ASP77, and GLY81/MET82 respectively."
   ]
  },
  {
   "cell_type": "code",
   "execution_count": 28,
   "metadata": {},
   "outputs": [
    {
     "data": {
      "text/html": [
       "<div>\n",
       "<style scoped>\n",
       "    .dataframe tbody tr th:only-of-type {\n",
       "        vertical-align: middle;\n",
       "    }\n",
       "\n",
       "    .dataframe tbody tr th {\n",
       "        vertical-align: top;\n",
       "    }\n",
       "\n",
       "    .dataframe thead th {\n",
       "        text-align: right;\n",
       "    }\n",
       "</style>\n",
       "<table border=\"1\" class=\"dataframe\">\n",
       "  <thead>\n",
       "    <tr style=\"text-align: right;\">\n",
       "      <th></th>\n",
       "      <th>time</th>\n",
       "      <th>WB_LEU32</th>\n",
       "      <th>WB_SER36</th>\n",
       "      <th>HY_ALA39</th>\n",
       "      <th>HA_ASP77</th>\n",
       "      <th>WB_ASP77</th>\n",
       "      <th>HY_ILE80</th>\n",
       "      <th>WB_GLY81</th>\n",
       "      <th>HY_MET82</th>\n",
       "      <th>HY_LEU91</th>\n",
       "      <th>HY_ILE94</th>\n",
       "      <th>HY_PHE122</th>\n",
       "      <th>HD_THR168</th>\n",
       "      <th>WAT</th>\n",
       "    </tr>\n",
       "  </thead>\n",
       "  <tbody>\n",
       "    <tr>\n",
       "      <th>0</th>\n",
       "      <td>0</td>\n",
       "      <td>1</td>\n",
       "      <td>1</td>\n",
       "      <td>1</td>\n",
       "      <td>1</td>\n",
       "      <td>1</td>\n",
       "      <td>1</td>\n",
       "      <td>1</td>\n",
       "      <td>1</td>\n",
       "      <td>1</td>\n",
       "      <td>1</td>\n",
       "      <td>1</td>\n",
       "      <td>1</td>\n",
       "      <td>4</td>\n",
       "    </tr>\n",
       "  </tbody>\n",
       "</table>\n",
       "</div>"
      ],
      "text/plain": [
       "   time  WB_LEU32  WB_SER36  HY_ALA39  HA_ASP77  WB_ASP77  HY_ILE80  WB_GLY81  \\\n",
       "0     0         1         1         1         1         1         1         1   \n",
       "\n",
       "   HY_MET82  HY_LEU91  HY_ILE94  HY_PHE122  HD_THR168  WAT  \n",
       "0         1         1         1          1          1    4  "
      ]
     },
     "execution_count": 28,
     "metadata": {},
     "output_type": "execute_result"
    }
   ],
   "source": [
    "df_prop_complete"
   ]
  },
  {
   "cell_type": "markdown",
   "metadata": {},
   "source": [
    "### 1.4 Visualization of protein residues involved in the PL interactions\n",
    "For the visualization in jp notebook we'll use NGLWidget.\\\n",
    "Let's first look at all residues participating in protein-ligand water bridges and H-bonds (taken from df_HB and df_WB)."
   ]
  },
  {
   "cell_type": "code",
   "execution_count": 29,
   "metadata": {},
   "outputs": [
    {
     "data": {
      "application/vnd.jupyter.widget-view+json": {
       "model_id": "5cd68da3e7484146a9e26ab84d93cf0c",
       "version_major": 2,
       "version_minor": 0
      },
      "text/plain": [
       "NGLWidget()"
      ]
     },
     "metadata": {},
     "output_type": "display_data"
    }
   ],
   "source": [
    "view = nv.NGLWidget()\n",
    "\n",
    "# We only want to see the protein and the ligand\n",
    "u_reduced = u.select_atoms('protein or (resname INH WAT)')\n",
    "w=nv.show_mdanalysis(u_reduced)\n",
    "w.add_licorice(\"77 81 168\")\n",
    "w"
   ]
  },
  {
   "cell_type": "markdown",
   "metadata": {},
   "source": [
    "Next, let us look at aromatic interactions. The following can be adapted to other interactions by changing \"AR\" to one of \"HD\", \"HA\", \"IP\", \"IN\", \"WB\", \"HA\"."
   ]
  },
  {
   "cell_type": "code",
   "execution_count": 30,
   "metadata": {},
   "outputs": [
    {
     "name": "stdout",
     "output_type": "stream",
     "text": [
      "Showing residues \n"
     ]
    },
    {
     "data": {
      "application/vnd.jupyter.widget-view+json": {
       "model_id": "1ae56b957e9a4830b64931795141f6de",
       "version_major": 2,
       "version_minor": 0
      },
      "text/plain": [
       "NGLWidget()"
      ]
     },
     "metadata": {},
     "output_type": "display_data"
    }
   ],
   "source": [
    "view = nv.NGLWidget()\n",
    "u_reduced = u.select_atoms('protein or (resname INH WAT)')\n",
    "w = nv.show_mdanalysis(u_reduced)\n",
    "\n",
    "residues = ''.join([' ' + str(ifp[6:]) for ifp in df_prop_complete.columns.tolist() \n",
    "                    if (ifp[:2] == 'AR')])\n",
    "print('Showing residues', residues)\n",
    "w.add_licorice(residues)\n",
    "w"
   ]
  },
  {
   "cell_type": "markdown",
   "metadata": {},
   "source": [
    "## 2. Generation of PL IFPs for a single MD trajectory\n",
    "### 2.1 Read a trajectory, compute PL IFPs and show results\n",
    "This time we'll calculate the IFPs not for a static situation, but over a trajectory. The procedure stays mainly the same as the above, with a few tweaks."
   ]
  },
  {
   "cell_type": "code",
   "execution_count": 31,
   "metadata": {},
   "outputs": [
    {
     "ename": "SyntaxError",
     "evalue": "invalid syntax (<ipython-input-31-a1523210d671>, line 48)",
     "output_type": "error",
     "traceback": [
      "\u001b[1;36m  File \u001b[1;32m\"<ipython-input-31-a1523210d671>\"\u001b[1;36m, line \u001b[1;32m48\u001b[0m\n\u001b[1;33m    . = table_combine(df_HB, df_WB, df_prop, \"INH\")\u001b[0m\n\u001b[1;37m    ^\u001b[0m\n\u001b[1;31mSyntaxError\u001b[0m\u001b[1;31m:\u001b[0m invalid syntax\n"
     ]
    }
   ],
   "source": [
    "# Set the file paths for all of the needed data\n",
    "ref_pdb = \"Data/6EI5/ref-min.pdb\"\n",
    "ligand_pdb = \"Data/6EI5//INH.pdb\"\n",
    "ligand_mol2 = \"Data/6EI5//moe.mol2\"\n",
    "traj = \"Data/6EI5/amber2namd2.dcd\"\n",
    "\n",
    "# Initialize the MDAnalysis Universes (static and with trajectory) and calculate the radius of gyration \n",
    "ref = mda.Universe(ref_pdb)\n",
    "Rgyr_t0 = ref.select_atoms(\"protein\").radius_of_gyration()\n",
    "\n",
    "u = mda.Universe(ref_pdb,traj) \n",
    "u_length = len(u.trajectory)\n",
    "\n",
    "# Load part of the trajectory in the memory\n",
    "u_reduced = u.select_atoms('protein or (resname INH WAT)')    \n",
    "stepsize = 50\n",
    "u_mem = mda.Merge(u_reduced).load_new(AnalysisFromFunction(\n",
    "            lambda ag: ag.positions.copy(), u_reduced).run(\n",
    "                start=0,stop=-1,step=stepsize).results,format=MemoryReader)\n",
    "\n",
    "# Bring the trajectory into the right format\n",
    "# One can save selected snapshots in the pdb format\n",
    "save_pdb = False  \n",
    "\n",
    "for i in range(0,len(u_mem.trajectory),1):\n",
    "    u_mem.trajectory[i]  \n",
    "    u_mem.dimensions = u.dimensions\n",
    "    \n",
    "    # Wrap all atoms back to the box, use radius of gyration for checking whether the procedure was successful\n",
    "    Rgyr = pbc(u_mem,Rgyr_t0)\n",
    "\n",
    "    # Calculate Root-mean-square deviation\n",
    "    rmsd = superimpose_traj(ref,u_mem,[\"protein\",\"resname INH\"])\n",
    "    \n",
    "    print(i,\"RMSD (protein , ligand):\",rmsd,\"traj length:\",u_length)\n",
    "    \n",
    "    if save_pdb == True:\n",
    "        all_write = u.select_atoms(\"all\")\n",
    "        all_write.write(\"/hits/fast/mcm/kokhda/TMP/\"+\"/namd_protein-\"+str(i)+\".pdb\")\n",
    "\n",
    "# Compute IFP:\n",
    "# parameters used: \n",
    "#  WB_analysis=True  - find water-mediated protein-ligand contacts; \n",
    "#  RE = False - don't store unspecific prorein-ligand contacts\n",
    "df_prop,df_HB,df_WB = IFP(u_mem, \"INH\", properties, WB_analysis=True, RE=False, Lipids=[])\n",
    "\n",
    "# Build IFP table\n",
    ". = table_combine(df_HB, df_WB, df_prop, \"INH\")\n",
    "\n",
    "# Plot IFPs\n",
    "Plot_IFP(df_prop_complete, contact_collection=None)"
   ]
  },
  {
   "cell_type": "markdown",
   "metadata": {},
   "source": [
    "### Explanation for the plots:  \n",
    "The first plot shows the devlopment of detected IFPs over the time of the trajetorie.  \n",
    "The second plot shows all contacts between ligand and protein over the time of the trajectorie.  \n",
    "The third plot shows the amount of molecules participating in the water shell of the ligand."
   ]
  },
  {
   "cell_type": "markdown",
   "metadata": {},
   "source": [
    "### 2.2 PL IFP table\n",
    "Now we can take a look at the calculated tables.\\\n",
    "First we will look at water molecules participating in protein-ligand water bridges.\n",
    "Not all frames are included in this table - only those where at least one water bridge found\n",
    "\"sele1*\" is either ligand or water molecule that mediate ligand-protein interaction\n",
    "\"sele2*\" is either protein or water"
   ]
  },
  {
   "cell_type": "code",
   "execution_count": null,
   "metadata": {},
   "outputs": [],
   "source": [
    "df_WB"
   ]
  },
  {
   "cell_type": "markdown",
   "metadata": {},
   "source": [
    "Then we can open the table with all hydrogen bonds"
   ]
  },
  {
   "cell_type": "code",
   "execution_count": null,
   "metadata": {},
   "outputs": [],
   "source": [
    "df_HB"
   ]
  },
  {
   "cell_type": "markdown",
   "metadata": {},
   "source": [
    "Finally, we can look at the combined table - it comprise all IFPs as well as protein resideus that participate in protein-ligand water bridges\n",
    "This is a binary table with 1 "
   ]
  },
  {
   "cell_type": "code",
   "execution_count": null,
   "metadata": {},
   "outputs": [],
   "source": [
    "df_prop_complete"
   ]
  },
  {
   "cell_type": "markdown",
   "metadata": {},
   "source": [
    "### 2.3 Visualization of the IFP table "
   ]
  },
  {
   "cell_type": "markdown",
   "metadata": {},
   "source": [
    "Here is one more way to vizualize generated PL IFPs and water-mediated PL bonds"
   ]
  },
  {
   "cell_type": "code",
   "execution_count": null,
   "metadata": {},
   "outputs": [],
   "source": [
    "\n",
    "Plot_IF_trajectory(df_prop_complete,ifp_type = np.asarray(['AR','HA','HD','IP','IN',\"IO\",\"WB\"]),head_tail=10)"
   ]
  },
  {
   "cell_type": "markdown",
   "metadata": {},
   "source": [
    "#### 2.4 Visualization of protein residues involved in PL interactions\n",
    "For the last point of this part we are gonna visualize the residues that participate in the IFP."
   ]
  },
  {
   "cell_type": "code",
   "execution_count": null,
   "metadata": {},
   "outputs": [],
   "source": [
    "# obtain string that contains unique residues interacting with water\n",
    "watr = ''.join([resid+' ' for resid in np.unique(water_bridges.sele2_resid.values.astype(str))])\n",
    "\n",
    "# obtain residues that participate in aromatic interaction\n",
    "residues = ''.join([str(ifp[6:]+' ') for ifp in df_prop_complete.columns.tolist() \n",
    "                    if (ifp[:2] == 'AR')])\n",
    "print(\"Showing Residues: \", residues)\n",
    "\n",
    "# Visualize the Complex\n",
    "\n",
    "view = nv.NGLWidget()\n",
    "protein = u_mem.select_atoms('protein or (resname INH WAT)')\n",
    "w=nv.show_mdanalysis(protein)\n",
    "w.add_licorice(watr+residues)\n",
    "w"
   ]
  },
  {
   "cell_type": "markdown",
   "metadata": {},
   "source": [
    "## 3. Generation of IFPs for a PDB file               (HSP90, PDB ID: 2YKI)"
   ]
  },
  {
   "cell_type": "markdown",
   "metadata": {},
   "source": [
    "Lastlz, We will use the trajectory.py script in order to get the properties of our ligand and another IFP analysis."
   ]
  },
  {
   "cell_type": "markdown",
   "metadata": {},
   "source": [
    "### 3.1 IFP calculations"
   ]
  },
  {
   "cell_type": "code",
   "execution_count": null,
   "metadata": {},
   "outputs": [],
   "source": [
    "# Define path to input data\n",
    "ref_pdb = \"Data/2YKI/2yki_MOE.pdb\"\n",
    "ligand_pdb_ = \"Data/2YKI/ligand_2yki_MOE.pdb\"\n",
    "ligand_mol2 = \"Data/2YKI/ligand_2yki_MOE.mol2\"\n",
    "\n",
    "# Load the pdb file into MDAnalysis universe\n",
    "u = mda.Universe(ref_pdb)\n",
    "\n",
    "# Define ligand residue name\n",
    "sel_ligands = 'YKI'\n",
    "\n",
    "# Get the chemical properties of the ligand with the ligand_properties function from the trajectories script\n",
    "properties, mol = ligand_properties(ligand_pdb, ligand_mol2)\n",
    "print(properties)\n",
    "\n",
    "# IFP analysis, for reference look at 1. or 2.\n",
    "df_prop,df_HB,df_WB = IFP(u,sel_ligands,properties,WB_analysis=True,RE=False)\n",
    "df_prop_complete = table_combine(df_HB,df_WB,df_prop,sel_ligands)\n",
    "\n",
    "# Summary for all interactions\n",
    "ifp_type = ['HY','AR','WB','HA','HD']\n",
    "at_type = [[],[],[],[],[]]\n",
    "for v in df_prop_complete.columns.tolist():\n",
    "    for i,t in enumerate(ifp_type):\n",
    "        if v.find(t)>=0:\n",
    "            at_type[i].append(v)\n",
    "            \n",
    "print('\\n',10*'--','Contacts found:',10*'--')\n",
    "print(\"\\nHydrophobic contacts: \",at_type[0])\n",
    "print(\"\\nAromatic contacts: \",at_type[1])\n",
    "print(\"\\nWater Bridges: \",at_type[2])\n",
    "print(\"\\nHydrogen Acceptors: \",at_type[3])\n",
    "print(\"\\nHydrogen Donors: \",at_type[4])"
   ]
  },
  {
   "cell_type": "code",
   "execution_count": null,
   "metadata": {
    "scrolled": true
   },
   "outputs": [],
   "source": [
    "df_prop_complete"
   ]
  },
  {
   "cell_type": "markdown",
   "metadata": {},
   "source": [
    "### 3.2 Visualization of PL interactions"
   ]
  },
  {
   "cell_type": "code",
   "execution_count": null,
   "metadata": {
    "scrolled": false
   },
   "outputs": [],
   "source": [
    "view = nv.NGLWidget()\n",
    "protein = u.select_atoms('all')\n",
    "w=nv.show_mdanalysis(protein)\n",
    "residues = \"\".join([str(ifp[6:] + \" \") for ifp in df_prop_complete.columns.tolist()])\n",
    "print(\"Showing residues: \", residues)\n",
    "w.add_licorice(residues)\n",
    "w"
   ]
  },
  {
   "cell_type": "code",
   "execution_count": null,
   "metadata": {},
   "outputs": [],
   "source": []
  }
 ],
 "metadata": {
  "kernelspec": {
   "display_name": "Python 3",
   "language": "python",
   "name": "python3"
  },
  "language_info": {
   "codemirror_mode": {
    "name": "ipython",
    "version": 3
   },
   "file_extension": ".py",
   "mimetype": "text/x-python",
   "name": "python",
   "nbconvert_exporter": "python",
   "pygments_lexer": "ipython3",
   "version": "3.7.3"
  }
 },
 "nbformat": 4,
 "nbformat_minor": 2
}
