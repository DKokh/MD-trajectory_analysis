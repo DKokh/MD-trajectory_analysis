{
 "cells": [
  {
   "cell_type": "markdown",
   "metadata": {},
   "source": [
    "# Test examples of PL IFP computations\n",
    "\n",
    "    1. Computing interaction fingerprints (IFP) for\n",
    "        -- a single structure prepared for MD simulations (HSP90; PDB ID 6EI5, dcd format)\n",
    "        -- a trajectory (for selected frames; dcd format)\n",
    "        -- PDB structure\n",
    "    2. Visualizing protein residues that are involved in protein-ligand interactions, including water-bridges\n",
    "     \n",
    "\n",
    "### Author: Daria Kokh\n",
    "    v.1.0\n",
    "    Copyright (c) 2019\n",
    "    Released under the GNU Public Licence, v2 or any higher version\n",
    "    \n",
    "\n",
    "\n",
    "### Input data required:\n",
    "    MD trajectory file of a complex\n",
    "    pdb file of a complex (for example, generated from the first frame)\n",
    "    pdb and mol2 file of a ligand separately \n",
    "    \n",
    "    \n",
    "### Packages required:\n",
    "    numpy\n",
    "    matplotlib\n",
    "    MDAnalysis v. 20.1\n",
    "    pandas\n",
    "    seaborn\n",
    "    RDkit\n",
    "    code is written on Python 3.x and tested on the version 3.7\n",
    "\n"
   ]
  },
  {
   "cell_type": "markdown",
   "metadata": {},
   "source": [
    "##  Application example \n",
    "\n",
    "    Heat Shock Protein 90 (HSP90)"
   ]
  },
  {
   "cell_type": "markdown",
   "metadata": {},
   "source": [
    "Import all of the required packages and scripts"
   ]
  },
  {
   "cell_type": "code",
   "execution_count": 1,
   "metadata": {},
   "outputs": [
    {
     "data": {
      "application/vnd.jupyter.widget-view+json": {
       "model_id": "6f363e68003a47cca000f36e2c9cb01a",
       "version_major": 2,
       "version_minor": 0
      },
      "text/plain": [
       "_ColormakerRegistry()"
      ]
     },
     "metadata": {},
     "output_type": "display_data"
    }
   ],
   "source": [
    "import glob, os\n",
    "import sys\n",
    "import numpy as np\n",
    "import pandas as pd\n",
    "import matplotlib.pyplot as plt\n",
    "import nglview as nv\n",
    "import MDAnalysis as mda\n",
    "import warnings\n",
    "from rdkit import Chem, RDConfig\n",
    "from rdkit.Chem.rdMolChemicalFeatures import MolChemicalFeatureFactory\n",
    "from Scripts.IFP_generation import *\n",
    "from Scripts.Trajectories import *\n",
    "#from Scripts.Complex_structure import *\n",
    "#from Scripts.Clustering import *\n",
    "\n",
    "%load_ext autoreload\n",
    "%autoreload 2\n",
    "warnings.filterwarnings(\"ignore\")"
   ]
  },
  {
   "cell_type": "markdown",
   "metadata": {},
   "source": [
    "## 1. HSP90 structure (PDB ID 6EI5; prepared for MD simulations) without trajectory.py\n",
    "### 1.1 find chemical properties of the ligand using RDKit "
   ]
  },
  {
   "cell_type": "markdown",
   "metadata": {},
   "source": [
    "Before we start with the IFP-Analysis we first need to extract the chemical information of the ligand."
   ]
  },
  {
   "cell_type": "code",
   "execution_count": 2,
   "metadata": {},
   "outputs": [],
   "source": [
    "# Define the path to the Ligand data, pdb file and mol2 file are needed\n",
    "ligand_pdb = \"Data/6EI5//INH.pdb\"\n",
    "ligand_mol2 = \"Data/6EI5//moe.mol2\"\n",
    "\n",
    "# Get the atom names of the ligand\n",
    "with open(ligand_pdb, 'r') as fasta_file: #Does ff stand for fasta file? \n",
    "    list_labels = [line.split()[2] for line in fasta_file.readlines() if line.split()[0]=='ATOM']\n",
    "\n",
    "# Get the ligand features using RDKit feature factory\n",
    "mol = Chem.rdmolfiles.MolFromMol2File(ligand_mol2, removeHs=False)\n",
    "factory_name = os.path.join(RDConfig.RDDataDir, 'BaseFeatures.fdef')\n",
    "factory = Chem.ChemicalFeatures.BuildFeatureFactory(factory_name)\n",
    "features = factory.GetFeaturesForMol(mol)\n",
    "\n",
    "# Create dictionary that maps Atoms to their features\n",
    "properties = {feature.GetFamily():[] for feature in features}\n",
    "for feature in features:\n",
    "    current_atoms = [list_labels[atom_id] for atom_id in list(feature.GetAtomIds())]\n",
    "    for atom in current_atoms:\n",
    "        properties[feature.GetFamily()].append(atom)\n",
    "        \n",
    "# Additionally we need to load our protein/ligand complex into a MDAnalysis universe\n",
    "ref_pdb = 'Data/6EI5/ref-min.pdb'\n",
    "u = mda.Universe(ref_pdb)"
   ]
  },
  {
   "cell_type": "markdown",
   "metadata": {},
   "source": [
    "### 1.2 Generate PL IFPs \n",
    "Now that we have all the chemical information for our ligand, we can start the actual IFP analysis.  \n",
    "The possible interactions with their corresponding abbreviations are shown in the table below.  \n",
    "  \n",
    "| Abbreviation |    Type of interaction   |\n",
    "|:---------------|:---------------------------|\n",
    "|   HY  | Hydrophobic |\n",
    "|  IP  |       Salt bridge (positive charge) |\n",
    "|  IN  |       Salt bridge (negative charge) |\n",
    "|  AR  |   $\\pi$-stacking  |\n",
    "|    |  Cation-$\\pi$  |\n",
    "|    |  $\\pi$-Cation  |\n",
    "|    |  $\\pi$-Amide  |\n",
    "|  HL  |  Halogen-$\\pi$  |\n",
    "|    |  Halogen-carboxyl  |\n",
    "|    |  Halogen-Amide  |\n",
    "|    |  Halogen-Sulfur  |\n",
    "|  HD  |  Hydrogen-bond donor  |\n",
    "|  HA  |  Hydrogen-bond acceptor  |\n",
    "|  WB  |  Water bridge  |"
   ]
  },
  {
   "cell_type": "markdown",
   "metadata": {},
   "source": [
    "For this we use the IFP and table_combine functions contained in the IFP_generation script.\\\n",
    "The IFP function takes a variety of inputs.\\\n",
    "We need to supply our universe,  the ligand residue name and the properties of our ligand and set RE to false. The other settings we'll leave on the default for now.\\\n",
    "The IPS function returns three values, a properties, a hydrogenbond and a waterbridge dataframe."
   ]
  },
  {
   "cell_type": "code",
   "execution_count": 3,
   "metadata": {
    "scrolled": true
   },
   "outputs": [
    {
     "name": "stdout",
     "output_type": "stream",
     "text": [
      "Start HB analysis 11:07:44.856032\n",
      "Start WB analysis 11:07:45.236004\n",
      "Start collecting IFPs:  11:08:02.721256\n",
      "Start building IFP table:  11:08:04.538915\n",
      "IFP database is ready  11:08:04.541940\n"
     ]
    }
   ],
   "source": [
    "df_prop,df_HB,df_WB = IFP(u,\"INH\",properties,RE=False)\n",
    "df_prop_complete = table_combine(df_HB,df_WB,df_prop,\"INH\")"
   ]
  },
  {
   "cell_type": "code",
   "execution_count": 4,
   "metadata": {},
   "outputs": [
    {
     "data": {
      "text/html": [
       "<div>\n",
       "<style scoped>\n",
       "    .dataframe tbody tr th:only-of-type {\n",
       "        vertical-align: middle;\n",
       "    }\n",
       "\n",
       "    .dataframe tbody tr th {\n",
       "        vertical-align: top;\n",
       "    }\n",
       "\n",
       "    .dataframe thead th {\n",
       "        text-align: right;\n",
       "    }\n",
       "</style>\n",
       "<table border=\"1\" class=\"dataframe\">\n",
       "  <thead>\n",
       "    <tr style=\"text-align: right;\">\n",
       "      <th></th>\n",
       "      <th>time</th>\n",
       "      <th>HY_ALA39</th>\n",
       "      <th>HA_ASP77</th>\n",
       "      <th>WB_ASP77</th>\n",
       "      <th>HY_ILE80</th>\n",
       "      <th>HY_GLY81</th>\n",
       "      <th>WB_GLY81</th>\n",
       "      <th>HY_MET82</th>\n",
       "      <th>HY_ASP86</th>\n",
       "      <th>HY_LEU91</th>\n",
       "      <th>HY_ILE94</th>\n",
       "      <th>HY_PHE122</th>\n",
       "      <th>HY_VAL134</th>\n",
       "      <th>HY_TRP146</th>\n",
       "      <th>WB_THR168</th>\n",
       "      <th>WAT</th>\n",
       "    </tr>\n",
       "  </thead>\n",
       "  <tbody>\n",
       "    <tr>\n",
       "      <th>0</th>\n",
       "      <td>0</td>\n",
       "      <td>1</td>\n",
       "      <td>1</td>\n",
       "      <td>1</td>\n",
       "      <td>1</td>\n",
       "      <td>1</td>\n",
       "      <td>1</td>\n",
       "      <td>1</td>\n",
       "      <td>1</td>\n",
       "      <td>1</td>\n",
       "      <td>1</td>\n",
       "      <td>1</td>\n",
       "      <td>1</td>\n",
       "      <td>1</td>\n",
       "      <td>1</td>\n",
       "      <td>4</td>\n",
       "    </tr>\n",
       "  </tbody>\n",
       "</table>\n",
       "</div>"
      ],
      "text/plain": [
       "   time  HY_ALA39  HA_ASP77  WB_ASP77  HY_ILE80  HY_GLY81  WB_GLY81  HY_MET82  \\\n",
       "0     0         1         1         1         1         1         1         1   \n",
       "\n",
       "   HY_ASP86  HY_LEU91  HY_ILE94  HY_PHE122  HY_VAL134  HY_TRP146  WB_THR168  \\\n",
       "0         1         1         1          1          1          1          1   \n",
       "\n",
       "   WAT  \n",
       "0    4  "
      ]
     },
     "execution_count": 4,
     "metadata": {},
     "output_type": "execute_result"
    }
   ],
   "source": [
    "df_prop_complete"
   ]
  },
  {
   "cell_type": "markdown",
   "metadata": {},
   "source": [
    "### 1.3 Print specific PL IFPs\n",
    "\\\n",
    "Protein Residues that interact with the Ligand:"
   ]
  },
  {
   "cell_type": "code",
   "execution_count": 5,
   "metadata": {},
   "outputs": [
    {
     "data": {
      "text/plain": [
       "['time',\n",
       " 'HY_ALA39',\n",
       " 'HA_ASP77',\n",
       " 'WB_ASP77',\n",
       " 'HY_ILE80',\n",
       " 'HY_GLY81',\n",
       " 'WB_GLY81',\n",
       " 'HY_MET82',\n",
       " 'HY_ASP86',\n",
       " 'HY_LEU91',\n",
       " 'HY_ILE94',\n",
       " 'HY_PHE122',\n",
       " 'HY_VAL134',\n",
       " 'HY_TRP146',\n",
       " 'WB_THR168',\n",
       " 'WAT']"
      ]
     },
     "execution_count": 5,
     "metadata": {},
     "output_type": "execute_result"
    }
   ],
   "source": [
    "df_prop_complete.columns.tolist()"
   ]
  },
  {
   "cell_type": "markdown",
   "metadata": {},
   "source": [
    "Hydrogen bonds between the ligand and Protein (distance in Angstrom):"
   ]
  },
  {
   "cell_type": "code",
   "execution_count": 6,
   "metadata": {},
   "outputs": [
    {
     "data": {
      "text/html": [
       "<div>\n",
       "<style scoped>\n",
       "    .dataframe tbody tr th:only-of-type {\n",
       "        vertical-align: middle;\n",
       "    }\n",
       "\n",
       "    .dataframe tbody tr th {\n",
       "        vertical-align: top;\n",
       "    }\n",
       "\n",
       "    .dataframe thead th {\n",
       "        text-align: right;\n",
       "    }\n",
       "</style>\n",
       "<table border=\"1\" class=\"dataframe\">\n",
       "  <thead>\n",
       "    <tr style=\"text-align: right;\">\n",
       "      <th></th>\n",
       "      <th>time</th>\n",
       "      <th>donor_index</th>\n",
       "      <th>acceptor_index</th>\n",
       "      <th>donor_resnm</th>\n",
       "      <th>donor_resid</th>\n",
       "      <th>donor_atom</th>\n",
       "      <th>acceptor_resnm</th>\n",
       "      <th>acceptor_resid</th>\n",
       "      <th>acceptor_atom</th>\n",
       "      <th>distance</th>\n",
       "      <th>angle</th>\n",
       "    </tr>\n",
       "  </thead>\n",
       "  <tbody>\n",
       "    <tr>\n",
       "      <th>0</th>\n",
       "      <td>0.0</td>\n",
       "      <td>3295</td>\n",
       "      <td>1248</td>\n",
       "      <td>INH</td>\n",
       "      <td>208</td>\n",
       "      <td>H141</td>\n",
       "      <td>ASP</td>\n",
       "      <td>77</td>\n",
       "      <td>OD1</td>\n",
       "      <td>2.834688</td>\n",
       "      <td>169.151585</td>\n",
       "    </tr>\n",
       "    <tr>\n",
       "      <th>1</th>\n",
       "      <td>0.0</td>\n",
       "      <td>3295</td>\n",
       "      <td>1249</td>\n",
       "      <td>INH</td>\n",
       "      <td>208</td>\n",
       "      <td>H141</td>\n",
       "      <td>ASP</td>\n",
       "      <td>77</td>\n",
       "      <td>OD2</td>\n",
       "      <td>2.060964</td>\n",
       "      <td>137.979250</td>\n",
       "    </tr>\n",
       "  </tbody>\n",
       "</table>\n",
       "</div>"
      ],
      "text/plain": [
       "   time  donor_index  acceptor_index donor_resnm  donor_resid donor_atom  \\\n",
       "0   0.0         3295            1248         INH          208       H141   \n",
       "1   0.0         3295            1249         INH          208       H141   \n",
       "\n",
       "  acceptor_resnm  acceptor_resid acceptor_atom  distance       angle  \n",
       "0            ASP              77           OD1  2.834688  169.151585  \n",
       "1            ASP              77           OD2  2.060964  137.979250  "
      ]
     },
     "execution_count": 6,
     "metadata": {},
     "output_type": "execute_result"
    }
   ],
   "source": [
    "df_HB"
   ]
  },
  {
   "cell_type": "markdown",
   "metadata": {},
   "source": [
    "This is the complete IFP database.\\\n",
    "It contains Waterbridges between the ligand and THR168, ASP77 and GLY81.\\\n",
    "Hydrogen bonds and aromatic contact with the ligand are constituted with ASP77, and GLY81/MET82 respectively."
   ]
  },
  {
   "cell_type": "code",
   "execution_count": 7,
   "metadata": {},
   "outputs": [
    {
     "data": {
      "text/html": [
       "<div>\n",
       "<style scoped>\n",
       "    .dataframe tbody tr th:only-of-type {\n",
       "        vertical-align: middle;\n",
       "    }\n",
       "\n",
       "    .dataframe tbody tr th {\n",
       "        vertical-align: top;\n",
       "    }\n",
       "\n",
       "    .dataframe thead th {\n",
       "        text-align: right;\n",
       "    }\n",
       "</style>\n",
       "<table border=\"1\" class=\"dataframe\">\n",
       "  <thead>\n",
       "    <tr style=\"text-align: right;\">\n",
       "      <th></th>\n",
       "      <th>time</th>\n",
       "      <th>HY_ALA39</th>\n",
       "      <th>HA_ASP77</th>\n",
       "      <th>WB_ASP77</th>\n",
       "      <th>HY_ILE80</th>\n",
       "      <th>HY_GLY81</th>\n",
       "      <th>WB_GLY81</th>\n",
       "      <th>HY_MET82</th>\n",
       "      <th>HY_ASP86</th>\n",
       "      <th>HY_LEU91</th>\n",
       "      <th>HY_ILE94</th>\n",
       "      <th>HY_PHE122</th>\n",
       "      <th>HY_VAL134</th>\n",
       "      <th>HY_TRP146</th>\n",
       "      <th>WB_THR168</th>\n",
       "      <th>WAT</th>\n",
       "    </tr>\n",
       "  </thead>\n",
       "  <tbody>\n",
       "    <tr>\n",
       "      <th>0</th>\n",
       "      <td>0</td>\n",
       "      <td>1</td>\n",
       "      <td>1</td>\n",
       "      <td>1</td>\n",
       "      <td>1</td>\n",
       "      <td>1</td>\n",
       "      <td>1</td>\n",
       "      <td>1</td>\n",
       "      <td>1</td>\n",
       "      <td>1</td>\n",
       "      <td>1</td>\n",
       "      <td>1</td>\n",
       "      <td>1</td>\n",
       "      <td>1</td>\n",
       "      <td>1</td>\n",
       "      <td>4</td>\n",
       "    </tr>\n",
       "  </tbody>\n",
       "</table>\n",
       "</div>"
      ],
      "text/plain": [
       "   time  HY_ALA39  HA_ASP77  WB_ASP77  HY_ILE80  HY_GLY81  WB_GLY81  HY_MET82  \\\n",
       "0     0         1         1         1         1         1         1         1   \n",
       "\n",
       "   HY_ASP86  HY_LEU91  HY_ILE94  HY_PHE122  HY_VAL134  HY_TRP146  WB_THR168  \\\n",
       "0         1         1         1          1          1          1          1   \n",
       "\n",
       "   WAT  \n",
       "0    4  "
      ]
     },
     "execution_count": 7,
     "metadata": {},
     "output_type": "execute_result"
    }
   ],
   "source": [
    "df_prop_complete"
   ]
  },
  {
   "cell_type": "markdown",
   "metadata": {},
   "source": [
    "### 1.4 Visualization of protein residues involved in the PL interactions\n",
    "For the visualization in jp notebook we'll use NGLWidget.\\\n",
    "Let's first look at all residues participating in protein-ligand water bridges and H-bonds (taken from df_HB and df_WB)."
   ]
  },
  {
   "cell_type": "code",
   "execution_count": 8,
   "metadata": {},
   "outputs": [
    {
     "data": {
      "application/vnd.jupyter.widget-view+json": {
       "model_id": "f81e29cca11d41fcbaaaa429669c8d8a",
       "version_major": 2,
       "version_minor": 0
      },
      "text/plain": [
       "NGLWidget()"
      ]
     },
     "metadata": {},
     "output_type": "display_data"
    }
   ],
   "source": [
    "view = nv.NGLWidget()\n",
    "\n",
    "# We only want to see the protein and the ligand\n",
    "u_reduced = u.select_atoms('protein or (resname INH WAT)')\n",
    "w=nv.show_mdanalysis(u_reduced)\n",
    "w.add_licorice(\"77 81 168\")\n",
    "w"
   ]
  },
  {
   "cell_type": "markdown",
   "metadata": {},
   "source": [
    "Next, let us look at aromatic interactions. The following can be adapted to other interactions by changing \"AR\" to one of \"HD\", \"HA\", \"IP\", \"IN\", \"WB\", \"HA\"."
   ]
  },
  {
   "cell_type": "code",
   "execution_count": 9,
   "metadata": {},
   "outputs": [
    {
     "name": "stdout",
     "output_type": "stream",
     "text": [
      "Showing residues \n"
     ]
    },
    {
     "data": {
      "application/vnd.jupyter.widget-view+json": {
       "model_id": "85b7b94bbb7c49a6ae4678da684eca20",
       "version_major": 2,
       "version_minor": 0
      },
      "text/plain": [
       "NGLWidget()"
      ]
     },
     "metadata": {},
     "output_type": "display_data"
    }
   ],
   "source": [
    "view = nv.NGLWidget()\n",
    "u_reduced = u.select_atoms('protein or (resname INH WAT)')\n",
    "w = nv.show_mdanalysis(u_reduced)\n",
    "\n",
    "residues = ''.join([' ' + str(ifp[6:]) for ifp in df_prop_complete.columns.tolist() \n",
    "                    if (ifp[:2] == 'AR')])\n",
    "print('Showing residues', residues)\n",
    "w.add_licorice(residues)\n",
    "w"
   ]
  },
  {
   "cell_type": "markdown",
   "metadata": {},
   "source": [
    "## 2. Generation of PL IFPs for a single MD trajectory\n",
    "### 2.1 Read a trajectory, compute PL IFPs and show results\n",
    "This time we'll calculate the IFPs not for a static situation, but over a trajectory. The procedure stays mainly the same as the above, with a few tweaks."
   ]
  },
  {
   "cell_type": "code",
   "execution_count": 10,
   "metadata": {},
   "outputs": [
    {
     "name": "stdout",
     "output_type": "stream",
     "text": [
      "0 RMSD (protein , ligand): [1.8149448168239566, 0.9369309884009814] traj length: 1000\n",
      "1 RMSD (protein , ligand): [1.8663876765455583, 1.3106771150193275] traj length: 1000\n",
      "2 RMSD (protein , ligand): [1.824483371709505, 1.3678690520872283] traj length: 1000\n",
      "3 RMSD (protein , ligand): [1.8584204150682104, 1.193052637550799] traj length: 1000\n",
      "4 RMSD (protein , ligand): [1.8824416186044164, 1.467007339387443] traj length: 1000\n",
      "5 RMSD (protein , ligand): [1.8235934222587904, 1.4605073710443868] traj length: 1000\n",
      "6 RMSD (protein , ligand): [1.8676691534056542, 0.94039910440598] traj length: 1000\n",
      "7 RMSD (protein , ligand): [1.8555510030471447, 0.8396326466471579] traj length: 1000\n",
      "8 RMSD (protein , ligand): [1.9695548850571365, 1.2110487607244371] traj length: 1000\n",
      "9 RMSD (protein , ligand): [1.8171787102327517, 1.5331365685448004] traj length: 1000\n",
      "10 RMSD (protein , ligand): [1.955475792261257, 0.9194494890246193] traj length: 1000\n",
      "11 RMSD (protein , ligand): [1.9383495567160693, 0.9684589854491567] traj length: 1000\n",
      "12 RMSD (protein , ligand): [1.8817868848910768, 1.081692515411827] traj length: 1000\n",
      "13 RMSD (protein , ligand): [1.8958917853640918, 0.8671176323592937] traj length: 1000\n",
      "14 RMSD (protein , ligand): [1.9495407155126236, 2.3259438178719036] traj length: 1000\n",
      "15 RMSD (protein , ligand): [1.8297931939678636, 1.9355663255693671] traj length: 1000\n",
      "16 RMSD (protein , ligand): [1.9085063402515887, 1.7723881624881404] traj length: 1000\n",
      "17 RMSD (protein , ligand): [1.8847131646215962, 1.621299282976708] traj length: 1000\n",
      "18 RMSD (protein , ligand): [1.8581810766975628, 1.9278848680673781] traj length: 1000\n",
      "19 RMSD (protein , ligand): [1.9550846589045885, 2.1566645260643242] traj length: 1000\n",
      "Start HB analysis 11:08:26.986947\n",
      "Start WB analysis 11:08:29.217056\n",
      "Start collecting IFPs:  11:14:54.373175\n",
      "Start building IFP table:  11:15:39.997668\n",
      "IFP database is ready  11:15:40.017651\n"
     ]
    },
    {
     "data": {
      "image/png": "[encoded data removed]",
      "text/plain": [
       "<Figure size 1152x432 with 5 Axes>"
      ]
     },
     "metadata": {
      "needs_background": "light"
     },
     "output_type": "display_data"
    }
   ],
   "source": [
    "# Set the file paths for all of the needed data\n",
    "ref_pdb = \"Data/6EI5/ref-min.pdb\"\n",
    "ligand_pdb = \"Data/6EI5//INH.pdb\"\n",
    "ligand_mol2 = \"Data/6EI5//moe.mol2\"\n",
    "traj = \"Data/6EI5/amber2namd2.dcd\"\n",
    "\n",
    "# Initialize the MDAnalysis Universes (static and with trajectory) and calculate the radius of gyration \n",
    "ref = mda.Universe(ref_pdb)\n",
    "Rgyr_t0 = ref.select_atoms(\"protein\").radius_of_gyration()\n",
    "\n",
    "u = mda.Universe(ref_pdb,traj) \n",
    "u_length = len(u.trajectory)\n",
    "\n",
    "# Load part of the trajectory in the memory\n",
    "u_reduced = u.select_atoms('protein or (resname INH WAT)')    \n",
    "stepsize = 50\n",
    "u_mem = mda.Merge(u_reduced).load_new(AnalysisFromFunction(\n",
    "            lambda ag: ag.positions.copy(), u_reduced).run(\n",
    "                start=0,stop=-1,step=stepsize).results,format=MemoryReader)\n",
    "\n",
    "# Bring the trajectory into the right format\n",
    "# One can save selected snapshots in the pdb format\n",
    "save_pdb = False  \n",
    "\n",
    "for i in range(0,len(u_mem.trajectory),1):\n",
    "    u_mem.trajectory[i]  \n",
    "    u_mem.dimensions = u.dimensions\n",
    "    \n",
    "    # Wrap all atoms back to the box, use radius of gyration for checking whether the procedure was successful\n",
    "    Rgyr = pbc(u_mem,Rgyr_t0)\n",
    "\n",
    "    # Calculate Root-mean-square deviation\n",
    "    rmsd = superimpose_traj(ref,u_mem,[\"protein\",\"resname INH\"])\n",
    "    \n",
    "    print(i,\"RMSD (protein , ligand):\",rmsd,\"traj length:\",u_length)\n",
    "    \n",
    "    if save_pdb == True:\n",
    "        all_write = u.select_atoms(\"all\")\n",
    "        all_write.write(\"/hits/fast/mcm/kokhda/TMP/\"+\"/namd_protein-\"+str(i)+\".pdb\")\n",
    "\n",
    "# Compute IFP\n",
    "df_prop,df_HB,df_WB = IFP(u_mem, \"INH\", properties, WB_analysis=True, RE=True, Lipids=[])\n",
    "\n",
    "# Build IFP table\n",
    "df_prop_complete = table_combine(df_HB, df_WB, df_prop, \"INH\")\n",
    "\n",
    "# Plot IFPs\n",
    "Plot_IFP(df_prop_complete, contact_collection=None)"
   ]
  },
  {
   "cell_type": "markdown",
   "metadata": {},
   "source": [
    "### Explanation for the plots:  \n",
    "The first plot shows the devlopment of detected IFPs over the time of the trajetorie.  \n",
    "The second plot shows all contacts between ligand and protein over the time of the trajectorie.  \n",
    "The third plot shows the amount of molecules participating in the water shell of the ligand."
   ]
  },
  {
   "cell_type": "markdown",
   "metadata": {},
   "source": [
    "### 2.2 PL IFP table\n",
    "Now we take a look at our calculated tables.\\\n",
    "First we're gonna look at water molecules participating in protein-ligand water bridges."
   ]
  },
  {
   "cell_type": "code",
   "execution_count": 11,
   "metadata": {},
   "outputs": [
    {
     "data": {
      "text/html": [
       "<div>\n",
       "<style scoped>\n",
       "    .dataframe tbody tr th:only-of-type {\n",
       "        vertical-align: middle;\n",
       "    }\n",
       "\n",
       "    .dataframe tbody tr th {\n",
       "        vertical-align: top;\n",
       "    }\n",
       "\n",
       "    .dataframe thead th {\n",
       "        text-align: right;\n",
       "    }\n",
       "</style>\n",
       "<table border=\"1\" class=\"dataframe\">\n",
       "  <thead>\n",
       "    <tr style=\"text-align: right;\">\n",
       "      <th></th>\n",
       "      <th>time</th>\n",
       "      <th>sele1_index</th>\n",
       "      <th>sele2_index</th>\n",
       "      <th>sele1_resnm</th>\n",
       "      <th>sele1_resid</th>\n",
       "      <th>sele1_atom</th>\n",
       "      <th>sele2_resnm</th>\n",
       "      <th>sele2_resid</th>\n",
       "      <th>sele2_atom</th>\n",
       "      <th>distance</th>\n",
       "      <th>angle</th>\n",
       "    </tr>\n",
       "  </thead>\n",
       "  <tbody>\n",
       "    <tr>\n",
       "      <th>2</th>\n",
       "      <td>0.0</td>\n",
       "      <td>3295</td>\n",
       "      <td>3315</td>\n",
       "      <td>INH</td>\n",
       "      <td>208</td>\n",
       "      <td>H141</td>\n",
       "      <td>WAT</td>\n",
       "      <td>264</td>\n",
       "      <td>O</td>\n",
       "      <td>3.007054</td>\n",
       "      <td>143.258686</td>\n",
       "    </tr>\n",
       "    <tr>\n",
       "      <th>4</th>\n",
       "      <td>0.0</td>\n",
       "      <td>3317</td>\n",
       "      <td>3318</td>\n",
       "      <td>WAT</td>\n",
       "      <td>264</td>\n",
       "      <td>H2</td>\n",
       "      <td>WAT</td>\n",
       "      <td>265</td>\n",
       "      <td>O</td>\n",
       "      <td>1.679101</td>\n",
       "      <td>165.651706</td>\n",
       "    </tr>\n",
       "    <tr>\n",
       "      <th>7</th>\n",
       "      <td>0.0</td>\n",
       "      <td>3318</td>\n",
       "      <td>3317</td>\n",
       "      <td>WAT</td>\n",
       "      <td>265</td>\n",
       "      <td>O</td>\n",
       "      <td>WAT</td>\n",
       "      <td>264</td>\n",
       "      <td>H2</td>\n",
       "      <td>1.679101</td>\n",
       "      <td>165.651706</td>\n",
       "    </tr>\n",
       "    <tr>\n",
       "      <th>8</th>\n",
       "      <td>0.0</td>\n",
       "      <td>3320</td>\n",
       "      <td>3321</td>\n",
       "      <td>WAT</td>\n",
       "      <td>265</td>\n",
       "      <td>H2</td>\n",
       "      <td>WAT</td>\n",
       "      <td>266</td>\n",
       "      <td>O</td>\n",
       "      <td>1.706522</td>\n",
       "      <td>165.457950</td>\n",
       "    </tr>\n",
       "    <tr>\n",
       "      <th>9</th>\n",
       "      <td>0.0</td>\n",
       "      <td>3295</td>\n",
       "      <td>3318</td>\n",
       "      <td>INH</td>\n",
       "      <td>208</td>\n",
       "      <td>H141</td>\n",
       "      <td>WAT</td>\n",
       "      <td>265</td>\n",
       "      <td>O</td>\n",
       "      <td>1.986871</td>\n",
       "      <td>150.195769</td>\n",
       "    </tr>\n",
       "    <tr>\n",
       "      <th>...</th>\n",
       "      <td>...</td>\n",
       "      <td>...</td>\n",
       "      <td>...</td>\n",
       "      <td>...</td>\n",
       "      <td>...</td>\n",
       "      <td>...</td>\n",
       "      <td>...</td>\n",
       "      <td>...</td>\n",
       "      <td>...</td>\n",
       "      <td>...</td>\n",
       "      <td>...</td>\n",
       "    </tr>\n",
       "    <tr>\n",
       "      <th>287</th>\n",
       "      <td>19.0</td>\n",
       "      <td>3296</td>\n",
       "      <td>3324</td>\n",
       "      <td>INH</td>\n",
       "      <td>208</td>\n",
       "      <td>H142</td>\n",
       "      <td>WAT</td>\n",
       "      <td>267</td>\n",
       "      <td>O</td>\n",
       "      <td>3.267007</td>\n",
       "      <td>126.809517</td>\n",
       "    </tr>\n",
       "    <tr>\n",
       "      <th>288</th>\n",
       "      <td>19.0</td>\n",
       "      <td>3268</td>\n",
       "      <td>3317</td>\n",
       "      <td>INH</td>\n",
       "      <td>208</td>\n",
       "      <td>N8</td>\n",
       "      <td>WAT</td>\n",
       "      <td>264</td>\n",
       "      <td>H2</td>\n",
       "      <td>2.361863</td>\n",
       "      <td>142.569471</td>\n",
       "    </tr>\n",
       "    <tr>\n",
       "      <th>289</th>\n",
       "      <td>19.0</td>\n",
       "      <td>3270</td>\n",
       "      <td>3325</td>\n",
       "      <td>INH</td>\n",
       "      <td>208</td>\n",
       "      <td>N10</td>\n",
       "      <td>WAT</td>\n",
       "      <td>267</td>\n",
       "      <td>H1</td>\n",
       "      <td>2.423445</td>\n",
       "      <td>125.716732</td>\n",
       "    </tr>\n",
       "    <tr>\n",
       "      <th>290</th>\n",
       "      <td>19.0</td>\n",
       "      <td>3264</td>\n",
       "      <td>4685</td>\n",
       "      <td>INH</td>\n",
       "      <td>208</td>\n",
       "      <td>O4</td>\n",
       "      <td>WAT</td>\n",
       "      <td>720</td>\n",
       "      <td>H2</td>\n",
       "      <td>1.579936</td>\n",
       "      <td>161.082026</td>\n",
       "    </tr>\n",
       "    <tr>\n",
       "      <th>291</th>\n",
       "      <td>19.0</td>\n",
       "      <td>3264</td>\n",
       "      <td>18676</td>\n",
       "      <td>INH</td>\n",
       "      <td>208</td>\n",
       "      <td>O4</td>\n",
       "      <td>WAT</td>\n",
       "      <td>5384</td>\n",
       "      <td>H1</td>\n",
       "      <td>3.098263</td>\n",
       "      <td>113.903928</td>\n",
       "    </tr>\n",
       "  </tbody>\n",
       "</table>\n",
       "<p>191 rows × 11 columns</p>\n",
       "</div>"
      ],
      "text/plain": [
       "     time  sele1_index  sele2_index sele1_resnm  sele1_resid sele1_atom  \\\n",
       "2     0.0         3295         3315         INH          208       H141   \n",
       "4     0.0         3317         3318         WAT          264         H2   \n",
       "7     0.0         3318         3317         WAT          265          O   \n",
       "8     0.0         3320         3321         WAT          265         H2   \n",
       "9     0.0         3295         3318         INH          208       H141   \n",
       "..    ...          ...          ...         ...          ...        ...   \n",
       "287  19.0         3296         3324         INH          208       H142   \n",
       "288  19.0         3268         3317         INH          208         N8   \n",
       "289  19.0         3270         3325         INH          208        N10   \n",
       "290  19.0         3264         4685         INH          208         O4   \n",
       "291  19.0         3264        18676         INH          208         O4   \n",
       "\n",
       "    sele2_resnm  sele2_resid sele2_atom  distance       angle  \n",
       "2           WAT          264          O  3.007054  143.258686  \n",
       "4           WAT          265          O  1.679101  165.651706  \n",
       "7           WAT          264         H2  1.679101  165.651706  \n",
       "8           WAT          266          O  1.706522  165.457950  \n",
       "9           WAT          265          O  1.986871  150.195769  \n",
       "..          ...          ...        ...       ...         ...  \n",
       "287         WAT          267          O  3.267007  126.809517  \n",
       "288         WAT          264         H2  2.361863  142.569471  \n",
       "289         WAT          267         H1  2.423445  125.716732  \n",
       "290         WAT          720         H2  1.579936  161.082026  \n",
       "291         WAT         5384         H1  3.098263  113.903928  \n",
       "\n",
       "[191 rows x 11 columns]"
      ]
     },
     "execution_count": 11,
     "metadata": {},
     "output_type": "execute_result"
    }
   ],
   "source": [
    "water_bridges = df_WB[df_WB.sele2_resnm.isin([\"INH\",\"WAT\"])]\n",
    "water_bridges "
   ]
  },
  {
   "cell_type": "code",
   "execution_count": 12,
   "metadata": {},
   "outputs": [
    {
     "data": {
      "text/plain": [
       "array(['ASP', 'WAT', 'ASN', 'LEU', 'SER', 'THR'], dtype=object)"
      ]
     },
     "execution_count": 12,
     "metadata": {},
     "output_type": "execute_result"
    }
   ],
   "source": [
    "df_WB.sele2_resnm.unique()"
   ]
  },
  {
   "cell_type": "markdown",
   "metadata": {},
   "source": [
    "### 2.3 Visualization of protein residues involved in PL interactions\n",
    "For the last point of this part we are gonna visualize the residues that participate in the IFP."
   ]
  },
  {
   "cell_type": "code",
   "execution_count": 13,
   "metadata": {},
   "outputs": [
    {
     "name": "stdout",
     "output_type": "stream",
     "text": [
      "Showing Residues:  42 \n"
     ]
    },
    {
     "data": {
      "application/vnd.jupyter.widget-view+json": {
       "model_id": "1aa76d7558444211a8e137fa84107125",
       "version_major": 2,
       "version_minor": 0
      },
      "text/plain": [
       "NGLWidget(max_frame=19)"
      ]
     },
     "metadata": {},
     "output_type": "display_data"
    }
   ],
   "source": [
    "# obtain string that contains unique residues interacting with water\n",
    "watr = ''.join([resid+' ' for resid in np.unique(water_bridges.sele2_resid.values.astype(str))])\n",
    "\n",
    "# obtain residues that participate in aromatic interaction\n",
    "residues = ''.join([str(ifp[6:]+' ') for ifp in df_prop_complete.columns.tolist() \n",
    "                    if (ifp[:2] == 'AR')])\n",
    "print(\"Showing Residues: \", residues)\n",
    "\n",
    "# Visualize the Complex\n",
    "\n",
    "view = nv.NGLWidget()\n",
    "protein = u_mem.select_atoms('protein or (resname INH WAT)')\n",
    "w=nv.show_mdanalysis(protein)\n",
    "w.add_licorice(watr+residues)\n",
    "w"
   ]
  },
  {
   "cell_type": "markdown",
   "metadata": {},
   "source": [
    "## 3. Generation of IFPs for a PDB file               (HSP90, PDB ID: 2YKI)"
   ]
  },
  {
   "cell_type": "markdown",
   "metadata": {},
   "source": [
    "Lastlz, We will use the trajectory.py script in order to get the properties of our ligand and another IFP analysis."
   ]
  },
  {
   "cell_type": "markdown",
   "metadata": {},
   "source": [
    "### 3.1 IFP calculations"
   ]
  },
  {
   "cell_type": "code",
   "execution_count": 14,
   "metadata": {},
   "outputs": [
    {
     "name": "stdout",
     "output_type": "stream",
     "text": [
      "{'Donor': ['O4', 'C6', 'N8', 'N10', 'C12'], 'Acceptor': ['C2', 'C6', 'N10', 'C19'], 'PosIonizable': ['C9', 'C6', 'C7', 'O4', 'C11'], 'Aromatic': ['O4', 'C7', 'C6', 'C9', 'C11', 'C12', 'H7', 'C31', 'H12', 'H9', 'C1', 'C2', 'N3', 'C11', 'C9', 'C5', 'N10', 'C21', 'C20', 'C18', 'C31', 'H7', 'C13', 'C16', 'C15', 'N14', 'C23', 'C24', 'C25', 'C26', 'C27', 'C28', 'C29', 'N30'], 'Hydrophobe': ['C5', 'C13', 'N14', 'C15', 'C16', 'C18', 'C20', 'C23', 'C24', 'C25', 'C26', 'C27', 'C28', 'C29', 'N30', 'C31', 'H12'], 'LumpedHydrophobe': ['C13', 'C16', 'C15', 'N14', 'C23', 'C24', 'C25', 'C26', 'C27', 'C28', 'C29', 'N30']}\n",
      "Start HB analysis 11:15:46.762899\n",
      "Start WB analysis 11:15:46.962004\n",
      "Start collecting IFPs:  11:15:50.586655\n",
      "Start building IFP table:  11:15:50.852275\n",
      "IFP database is ready  11:15:50.854274\n",
      "\n",
      " -------------------- Contacts found: --------------------\n",
      "\n",
      "Hydrophobic contacts:  ['HY_PHE22', 'HY_ASN51', 'HY_SER52', 'HY_ALA55', 'HY_MET98', 'HY_LEU107', 'HY_GLY108', 'HY_ILE110', 'HY_ALA111', 'HY_VAL136', 'HY_PHE138', 'HY_TYR139', 'HY_THR184', 'HY_VAL186']\n",
      "\n",
      "Aromatic contacts:  ['AR_PHE138', 'AR_TRP162', 'AR_PHE170']\n",
      "\n",
      "Water Bridges:  ['WB_GLN23']\n",
      "\n",
      "Hydrogen Acceptors:  []\n",
      "\n",
      "Hydrogen Donors:  []\n"
     ]
    }
   ],
   "source": [
    "# Define path to input data\n",
    "ref_pdb = \"Data/2YKI/2yki_MOE.pdb\"\n",
    "ligand_pdb_ = \"Data/2YKI/ligand_2yki_MOE.pdb\"\n",
    "ligand_mol2 = \"Data/2YKI/ligand_2yki_MOE.mol2\"\n",
    "\n",
    "# Load the pdb file into MDAnalysis universe\n",
    "u = mda.Universe(ref_pdb)\n",
    "\n",
    "# Define ligand residue name\n",
    "sel_ligands = 'YKI'\n",
    "\n",
    "# Get the chemical properties of the ligand with the ligand_properties function from the trajectories script\n",
    "properties, mol = ligand_properties(ligand_pdb, ligand_mol2)\n",
    "print(properties)\n",
    "\n",
    "# IFP analysis, for reference look at 1. or 2.\n",
    "df_prop,df_HB,df_WB = IFP(u,sel_ligands,properties,WB_analysis=True,RE=False)\n",
    "df_prop_complete = table_combine(df_HB,df_WB,df_prop,sel_ligands)\n",
    "\n",
    "# Summary for all interactions\n",
    "ifp_type = ['HY','AR','WB','HA','HD']\n",
    "at_type = [[],[],[],[],[]]\n",
    "for v in df_prop_complete.columns.tolist():\n",
    "    for i,t in enumerate(ifp_type):\n",
    "        if v.find(t)>=0:\n",
    "            at_type[i].append(v)\n",
    "            \n",
    "print('\\n',10*'--','Contacts found:',10*'--')\n",
    "print(\"\\nHydrophobic contacts: \",at_type[0])\n",
    "print(\"\\nAromatic contacts: \",at_type[1])\n",
    "print(\"\\nWater Bridges: \",at_type[2])\n",
    "print(\"\\nHydrogen Acceptors: \",at_type[3])\n",
    "print(\"\\nHydrogen Donors: \",at_type[4])"
   ]
  },
  {
   "cell_type": "code",
   "execution_count": 15,
   "metadata": {
    "scrolled": true
   },
   "outputs": [
    {
     "data": {
      "text/html": [
       "<div>\n",
       "<style scoped>\n",
       "    .dataframe tbody tr th:only-of-type {\n",
       "        vertical-align: middle;\n",
       "    }\n",
       "\n",
       "    .dataframe tbody tr th {\n",
       "        vertical-align: top;\n",
       "    }\n",
       "\n",
       "    .dataframe thead th {\n",
       "        text-align: right;\n",
       "    }\n",
       "</style>\n",
       "<table border=\"1\" class=\"dataframe\">\n",
       "  <thead>\n",
       "    <tr style=\"text-align: right;\">\n",
       "      <th></th>\n",
       "      <th>time</th>\n",
       "      <th>HY_PHE22</th>\n",
       "      <th>WB_GLN23</th>\n",
       "      <th>HY_ASN51</th>\n",
       "      <th>HY_SER52</th>\n",
       "      <th>HY_ALA55</th>\n",
       "      <th>HY_MET98</th>\n",
       "      <th>HY_LEU107</th>\n",
       "      <th>HY_GLY108</th>\n",
       "      <th>HY_ILE110</th>\n",
       "      <th>HY_ALA111</th>\n",
       "      <th>HY_VAL136</th>\n",
       "      <th>AR_PHE138</th>\n",
       "      <th>HY_PHE138</th>\n",
       "      <th>HY_TYR139</th>\n",
       "      <th>AR_TRP162</th>\n",
       "      <th>AR_PHE170</th>\n",
       "      <th>HY_THR184</th>\n",
       "      <th>HY_VAL186</th>\n",
       "      <th>WAT</th>\n",
       "    </tr>\n",
       "  </thead>\n",
       "  <tbody>\n",
       "    <tr>\n",
       "      <th>0</th>\n",
       "      <td>0</td>\n",
       "      <td>1</td>\n",
       "      <td>1</td>\n",
       "      <td>1</td>\n",
       "      <td>1</td>\n",
       "      <td>1</td>\n",
       "      <td>1</td>\n",
       "      <td>1</td>\n",
       "      <td>1</td>\n",
       "      <td>1</td>\n",
       "      <td>1</td>\n",
       "      <td>1</td>\n",
       "      <td>1</td>\n",
       "      <td>1</td>\n",
       "      <td>1</td>\n",
       "      <td>1</td>\n",
       "      <td>1</td>\n",
       "      <td>1</td>\n",
       "      <td>1</td>\n",
       "      <td>6</td>\n",
       "    </tr>\n",
       "  </tbody>\n",
       "</table>\n",
       "</div>"
      ],
      "text/plain": [
       "   time  HY_PHE22  WB_GLN23  HY_ASN51  HY_SER52  HY_ALA55  HY_MET98  \\\n",
       "0     0         1         1         1         1         1         1   \n",
       "\n",
       "   HY_LEU107  HY_GLY108  HY_ILE110  HY_ALA111  HY_VAL136  AR_PHE138  \\\n",
       "0          1          1          1          1          1          1   \n",
       "\n",
       "   HY_PHE138  HY_TYR139  AR_TRP162  AR_PHE170  HY_THR184  HY_VAL186  WAT  \n",
       "0          1          1          1          1          1          1    6  "
      ]
     },
     "execution_count": 15,
     "metadata": {},
     "output_type": "execute_result"
    }
   ],
   "source": [
    "df_prop_complete"
   ]
  },
  {
   "cell_type": "markdown",
   "metadata": {},
   "source": [
    "### 3.2 Visualization of PL interactions"
   ]
  },
  {
   "cell_type": "code",
   "execution_count": 16,
   "metadata": {
    "scrolled": false
   },
   "outputs": [
    {
     "name": "stdout",
     "output_type": "stream",
     "text": [
      "Showing residues:   22 23 51 52 55 98 107 108 110 111 136 138 138 139 162 170 184 186  \n"
     ]
    },
    {
     "data": {
      "application/vnd.jupyter.widget-view+json": {
       "model_id": "487c068c3cef46b78c35cb8a864fddcb",
       "version_major": 2,
       "version_minor": 0
      },
      "text/plain": [
       "NGLWidget()"
      ]
     },
     "metadata": {},
     "output_type": "display_data"
    }
   ],
   "source": [
    "view = nv.NGLWidget()\n",
    "protein = u.select_atoms('all')\n",
    "w=nv.show_mdanalysis(protein)\n",
    "residues = \"\".join([str(ifp[6:] + \" \") for ifp in df_prop_complete.columns.tolist()])\n",
    "print(\"Showing residues: \", residues)\n",
    "w.add_licorice(residues)\n",
    "w"
   ]
  },
  {
   "cell_type": "code",
   "execution_count": null,
   "metadata": {},
   "outputs": [],
   "source": []
  }
 ],
 "metadata": {
  "kernelspec": {
   "display_name": "Python 3",
   "language": "python",
   "name": "python3"
  },
  "language_info": {
   "codemirror_mode": {
    "name": "ipython",
    "version": 3
   },
   "file_extension": ".py",
   "mimetype": "text/x-python",
   "name": "python",
   "nbconvert_exporter": "python",
   "pygments_lexer": "ipython3",
   "version": "3.7.6"
  }
 },
 "nbformat": 4,
 "nbformat_minor": 2
}
